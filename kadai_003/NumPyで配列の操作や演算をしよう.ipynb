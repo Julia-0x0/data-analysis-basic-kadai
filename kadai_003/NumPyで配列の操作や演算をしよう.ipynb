{
  "nbformat": 4,
  "nbformat_minor": 0,
  "metadata": {
    "colab": {
      "provenance": []
    },
    "kernelspec": {
      "name": "python3",
      "display_name": "Python 3"
    },
    "language_info": {
      "name": "python"
    }
  },
  "cells": [
    {
      "cell_type": "code",
      "execution_count": 10,
      "metadata": {
        "colab": {
          "base_uri": "https://localhost:8080/"
        },
        "id": "Ve6YHDmVexsx",
        "outputId": "24ca053e-0303-4984-a3c5-363c2c64be03"
      },
      "outputs": [
        {
          "output_type": "stream",
          "name": "stdout",
          "text": [
            "[[ 4  5  6  7]\n",
            " [12 17 22 27]\n",
            " [20 29 38 47]]\n"
          ]
        },
        {
          "output_type": "execute_result",
          "data": {
            "text/plain": [
              "47"
            ]
          },
          "metadata": {},
          "execution_count": 10
        }
      ],
      "source": [
        "#Step1. NumPyをインポートするコードを記述する\n",
        "import numpy as np\n",
        "\n",
        "#Step2. AとBの行列を格納する多次元配列のコードを記述する\n",
        "A = np.array([[0, 1], [2, 3], [4, 5]])\n",
        "B = np.array([[0, 1, 2, 3], [4, 5, 6, 7]])\n",
        "\n",
        "#Step3. 行列の積の計算をするコードを記述する\n",
        "AB = np.dot(A, B)\n",
        "\n",
        "#Step4. Step3.の計算結果を表示するコードを記述する\n",
        "print(AB)\n",
        "\n",
        "#Step5. 行列の要素の最大値を求めるコードを記述する\n",
        "AB.max()"
      ]
    }
  ]
}